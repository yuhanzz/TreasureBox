{
 "cells": [
  {
   "cell_type": "code",
   "execution_count": 73,
   "id": "ead471b8",
   "metadata": {},
   "outputs": [],
   "source": [
    "from sklearn.linear_model import LogisticRegression\n",
    "from sklearn.ensemble import RandomForestClassifier\n",
    "import numpy as np\n",
    "import pandas as pd\n",
    "import pickle\n",
    "import sagemaker\n",
    "from sagemaker import get_execution_role\n",
    "from sagemaker.sklearn.estimator import SKLearn"
   ]
  },
  {
   "cell_type": "code",
   "execution_count": 2,
   "id": "c6935d3c",
   "metadata": {},
   "outputs": [],
   "source": [
    "sagemaker_session = sagemaker.Session()\n",
    "role = get_execution_role()"
   ]
  },
  {
   "cell_type": "code",
   "execution_count": 30,
   "id": "4213b87c",
   "metadata": {},
   "outputs": [],
   "source": [
    "FRAMEWORK_VERSION = \"0.23-1\"\n",
    "script_path = \"train.py\"\n",
    "sklearn = SKLearn(\n",
    "    entry_point=script_path,\n",
    "    framework_version=FRAMEWORK_VERSION,\n",
    "    instance_type=\"ml.c4.xlarge\",\n",
    "    role=role,\n",
    "    sagemaker_session=sagemaker_session,\n",
    "    hyperparameters={},\n",
    "    \n",
    ")"
   ]
  },
  {
   "cell_type": "code",
   "execution_count": 31,
   "id": "002473f5",
   "metadata": {},
   "outputs": [
    {
     "name": "stdout",
     "output_type": "stream",
     "text": [
      "2021-05-20 23:11:12 Starting - Starting the training job...\n",
      "2021-05-20 23:11:35 Starting - Launching requested ML instancesProfilerReport-1621552271: InProgress\n",
      "......\n",
      "2021-05-20 23:12:35 Starting - Preparing the instances for training......\n",
      "2021-05-20 23:13:41 Downloading - Downloading input data...\n",
      "2021-05-20 23:14:07 Training - Downloading the training image...\n",
      "2021-05-20 23:14:42 Uploading - Uploading generated training model\n",
      "2021-05-20 23:14:42 Completed - Training job completed\n",
      "\u001b[34m2021-05-20 23:14:29,892 sagemaker-containers INFO     Imported framework sagemaker_sklearn_container.training\u001b[0m\n",
      "\u001b[34m2021-05-20 23:14:29,894 sagemaker-training-toolkit INFO     No GPUs detected (normal if no gpus installed)\u001b[0m\n",
      "\u001b[34m2021-05-20 23:14:29,904 sagemaker_sklearn_container.training INFO     Invoking user training script.\u001b[0m\n",
      "\u001b[34m2021-05-20 23:14:30,276 sagemaker-training-toolkit INFO     No GPUs detected (normal if no gpus installed)\u001b[0m\n",
      "\u001b[34m2021-05-20 23:14:30,289 sagemaker-training-toolkit INFO     No GPUs detected (normal if no gpus installed)\u001b[0m\n",
      "\u001b[34m2021-05-20 23:14:30,301 sagemaker-training-toolkit INFO     No GPUs detected (normal if no gpus installed)\u001b[0m\n",
      "\u001b[34m2021-05-20 23:14:30,311 sagemaker-training-toolkit INFO     Invoking user script\n",
      "\u001b[0m\n",
      "\u001b[34mTraining Env:\n",
      "\u001b[0m\n",
      "\u001b[34m{\n",
      "    \"additional_framework_parameters\": {},\n",
      "    \"channel_input_dirs\": {},\n",
      "    \"current_host\": \"algo-1\",\n",
      "    \"framework_module\": \"sagemaker_sklearn_container.training:main\",\n",
      "    \"hosts\": [\n",
      "        \"algo-1\"\n",
      "    ],\n",
      "    \"hyperparameters\": {},\n",
      "    \"input_config_dir\": \"/opt/ml/input/config\",\n",
      "    \"input_data_config\": {},\n",
      "    \"input_dir\": \"/opt/ml/input\",\n",
      "    \"is_master\": true,\n",
      "    \"job_name\": \"sagemaker-scikit-learn-2021-05-20-23-11-11-861\",\n",
      "    \"log_level\": 20,\n",
      "    \"master_hostname\": \"algo-1\",\n",
      "    \"model_dir\": \"/opt/ml/model\",\n",
      "    \"module_dir\": \"s3://sagemaker-us-east-1-576925981193/sagemaker-scikit-learn-2021-05-20-23-11-11-861/source/sourcedir.tar.gz\",\n",
      "    \"module_name\": \"train\",\n",
      "    \"network_interface_name\": \"eth0\",\n",
      "    \"num_cpus\": 4,\n",
      "    \"num_gpus\": 0,\n",
      "    \"output_data_dir\": \"/opt/ml/output/data\",\n",
      "    \"output_dir\": \"/opt/ml/output\",\n",
      "    \"output_intermediate_dir\": \"/opt/ml/output/intermediate\",\n",
      "    \"resource_config\": {\n",
      "        \"current_host\": \"algo-1\",\n",
      "        \"hosts\": [\n",
      "            \"algo-1\"\n",
      "        ],\n",
      "        \"network_interface_name\": \"eth0\"\n",
      "    },\n",
      "    \"user_entry_point\": \"train.py\"\u001b[0m\n",
      "\u001b[34m}\n",
      "\u001b[0m\n",
      "\u001b[34mEnvironment variables:\n",
      "\u001b[0m\n",
      "\u001b[34mSM_HOSTS=[\"algo-1\"]\u001b[0m\n",
      "\u001b[34mSM_NETWORK_INTERFACE_NAME=eth0\u001b[0m\n",
      "\u001b[34mSM_HPS={}\u001b[0m\n",
      "\u001b[34mSM_USER_ENTRY_POINT=train.py\u001b[0m\n",
      "\u001b[34mSM_FRAMEWORK_PARAMS={}\u001b[0m\n",
      "\u001b[34mSM_RESOURCE_CONFIG={\"current_host\":\"algo-1\",\"hosts\":[\"algo-1\"],\"network_interface_name\":\"eth0\"}\u001b[0m\n",
      "\u001b[34mSM_INPUT_DATA_CONFIG={}\u001b[0m\n",
      "\u001b[34mSM_OUTPUT_DATA_DIR=/opt/ml/output/data\u001b[0m\n",
      "\u001b[34mSM_CHANNELS=[]\u001b[0m\n",
      "\u001b[34mSM_CURRENT_HOST=algo-1\u001b[0m\n",
      "\u001b[34mSM_MODULE_NAME=train\u001b[0m\n",
      "\u001b[34mSM_LOG_LEVEL=20\u001b[0m\n",
      "\u001b[34mSM_FRAMEWORK_MODULE=sagemaker_sklearn_container.training:main\u001b[0m\n",
      "\u001b[34mSM_INPUT_DIR=/opt/ml/input\u001b[0m\n",
      "\u001b[34mSM_INPUT_CONFIG_DIR=/opt/ml/input/config\u001b[0m\n",
      "\u001b[34mSM_OUTPUT_DIR=/opt/ml/output\u001b[0m\n",
      "\u001b[34mSM_NUM_CPUS=4\u001b[0m\n",
      "\u001b[34mSM_NUM_GPUS=0\u001b[0m\n",
      "\u001b[34mSM_MODEL_DIR=/opt/ml/model\u001b[0m\n",
      "\u001b[34mSM_MODULE_DIR=s3://sagemaker-us-east-1-576925981193/sagemaker-scikit-learn-2021-05-20-23-11-11-861/source/sourcedir.tar.gz\u001b[0m\n",
      "\u001b[34mSM_TRAINING_ENV={\"additional_framework_parameters\":{},\"channel_input_dirs\":{},\"current_host\":\"algo-1\",\"framework_module\":\"sagemaker_sklearn_container.training:main\",\"hosts\":[\"algo-1\"],\"hyperparameters\":{},\"input_config_dir\":\"/opt/ml/input/config\",\"input_data_config\":{},\"input_dir\":\"/opt/ml/input\",\"is_master\":true,\"job_name\":\"sagemaker-scikit-learn-2021-05-20-23-11-11-861\",\"log_level\":20,\"master_hostname\":\"algo-1\",\"model_dir\":\"/opt/ml/model\",\"module_dir\":\"s3://sagemaker-us-east-1-576925981193/sagemaker-scikit-learn-2021-05-20-23-11-11-861/source/sourcedir.tar.gz\",\"module_name\":\"train\",\"network_interface_name\":\"eth0\",\"num_cpus\":4,\"num_gpus\":0,\"output_data_dir\":\"/opt/ml/output/data\",\"output_dir\":\"/opt/ml/output\",\"output_intermediate_dir\":\"/opt/ml/output/intermediate\",\"resource_config\":{\"current_host\":\"algo-1\",\"hosts\":[\"algo-1\"],\"network_interface_name\":\"eth0\"},\"user_entry_point\":\"train.py\"}\u001b[0m\n",
      "\u001b[34mSM_USER_ARGS=[]\u001b[0m\n",
      "\u001b[34mSM_OUTPUT_INTERMEDIATE_DIR=/opt/ml/output/intermediate\u001b[0m\n",
      "\u001b[34mPYTHONPATH=/opt/ml/code:/miniconda3/bin:/miniconda3/lib/python37.zip:/miniconda3/lib/python3.7:/miniconda3/lib/python3.7/lib-dynload:/miniconda3/lib/python3.7/site-packages\n",
      "\u001b[0m\n",
      "\u001b[34mInvoking script with the following command:\n",
      "\u001b[0m\n",
      "\u001b[34m/miniconda3/bin/python train.py\n",
      "\n",
      "\u001b[0m\n",
      "\u001b[34m2021-05-20 23:14:32,457 sagemaker-containers INFO     Reporting training SUCCESS\u001b[0m\n",
      "Training seconds: 61\n",
      "Billable seconds: 61\n"
     ]
    }
   ],
   "source": [
    "sklearn.fit()"
   ]
  },
  {
   "cell_type": "code",
   "execution_count": 32,
   "id": "2d2e4bfb",
   "metadata": {},
   "outputs": [
    {
     "name": "stdout",
     "output_type": "stream",
     "text": [
      "-------------!"
     ]
    }
   ],
   "source": [
    "predictor = sklearn.deploy(initial_instance_count=1, instance_type=\"ml.m5.xlarge\")"
   ]
  },
  {
   "cell_type": "code",
   "execution_count": 33,
   "id": "f05211b4",
   "metadata": {},
   "outputs": [],
   "source": [
    "import os\n",
    "import io\n",
    "import boto3\n",
    "import json\n",
    "import csv\n",
    "ENDPOINT_NAME = 'sagemaker-scikit-learn-2021-05-20-23-14-54-193'"
   ]
  },
  {
   "cell_type": "code",
   "execution_count": 34,
   "id": "fed1fc64",
   "metadata": {},
   "outputs": [],
   "source": [
    "runtime= boto3.client('runtime.sagemaker')"
   ]
  },
  {
   "cell_type": "code",
   "execution_count": 76,
   "id": "0c7b7979",
   "metadata": {},
   "outputs": [],
   "source": [
    "categ = np.array(['C','S','H','E','B'])#['Clothing','Shoes','Handbags','Electronics','Books']\n",
    "d = {'0women1':[(0.5,50),(0.2,50),(0.05,50),(0.15,500),(0.1,30)],\n",
    "     '0women2':[(0.45,150),(0.25,150),(0.15,200),(0.1,900),(0.05,30)],\n",
    "     '0women3':[(0.3,50),(0.3,50),(0.2,100),(0.1,500),(0.1,30)],\n",
    "     '1men1':[(0.1,50),(0.5,100),(0.01,50),(0.3,500),(0.09,30)],\n",
    "     '1men2':[(0.1,100),(0.35,150),(0.01,50),(0.5,900),(0.04,30)],\n",
    "     '1men3':[(0.1,50),(0.35,50),(0.05,50),(0.3,500),(0.2,30)]}\n",
    "\n",
    "\n",
    "def make_data(num):\n",
    "    data = {'gender':[],'age':[],'category':[], 'price':[]}\n",
    "    age = {'1':(10,25),'2':(25,50),'3':(50,70)}\n",
    "    purchased = []\n",
    "    for k in d:\n",
    "        for i in range(len(categ)):\n",
    "            c = d[k][i]\n",
    "            N = int(num*c[0])\n",
    "            nn = (num-N)//2\n",
    "            data['gender']+=([int(k[0])]*2*(nn+N))\n",
    "            data['category']+=([categ[i]]*2*(nn+N))\n",
    "            purchased+=([1]*2*N)\n",
    "            data['age']+=list(np.random.randint(age[k[-1]][0],age[k[-1]][1], size=2*N))\n",
    "            data['price']+= list(np.random.randint(c[1]*0.5,c[1]*1.5, size=2*N))\n",
    "            purchased+=([0]*2*nn)\n",
    "            data['age']+=list(np.random.randint(age[k[-1]][0],age[k[-1]][1], size=2*nn))\n",
    "            data['price']+= list(np.random.randint(1,c[1]*0.4, size=nn))\n",
    "            data['price']+= list(np.random.randint(c[1]*1.6,c[1]*3, size=nn))\n",
    "\n",
    "    df = pd.DataFrame.from_dict(data)\n",
    "    df = pd.get_dummies(df)\n",
    "    return df,purchased\n",
    "test_X, test_y = make_data(100)"
   ]
  },
  {
   "cell_type": "code",
   "execution_count": 44,
   "id": "9b944bd5",
   "metadata": {},
   "outputs": [],
   "source": [
    "response = runtime.invoke_endpoint(EndpointName=ENDPOINT_NAME,\n",
    "                                       ContentType='text/csv',\n",
    "                                       Body=test_X.to_csv(header=False, index=False).encode(\"utf-8\"))"
   ]
  },
  {
   "cell_type": "code",
   "execution_count": 45,
   "id": "51e55756",
   "metadata": {},
   "outputs": [],
   "source": [
    "result = json.loads(response['Body'].read().decode())"
   ]
  },
  {
   "cell_type": "code",
   "execution_count": 49,
   "id": "d67c3bb6",
   "metadata": {},
   "outputs": [
    {
     "data": {
      "text/plain": [
       "array([0.64981356, 0.64546752, 0.66764762, ..., 0.23194844, 0.22775755,\n",
       "       0.26298402])"
      ]
     },
     "execution_count": 49,
     "metadata": {},
     "output_type": "execute_result"
    }
   ],
   "source": [
    "np.array(result)[:,1]"
   ]
  },
  {
   "cell_type": "code",
   "execution_count": 29,
   "id": "e6a25c34",
   "metadata": {},
   "outputs": [
    {
     "data": {
      "text/plain": [
       "{'ResponseMetadata': {'RequestId': '0febe935-eb10-462d-b914-287de6cbe006',\n",
       "  'HTTPStatusCode': 200,\n",
       "  'HTTPHeaders': {'x-amzn-requestid': '0febe935-eb10-462d-b914-287de6cbe006',\n",
       "   'content-type': 'application/x-amz-json-1.1',\n",
       "   'content-length': '0',\n",
       "   'date': 'Thu, 20 May 2021 23:10:45 GMT'},\n",
       "  'RetryAttempts': 0}}"
      ]
     },
     "execution_count": 29,
     "metadata": {},
     "output_type": "execute_result"
    }
   ],
   "source": [
    "#boto3.client(\"sagemaker\").delete_endpoint(EndpointName=ENDPOINT_NAME)"
   ]
  },
  {
   "cell_type": "code",
   "execution_count": 50,
   "id": "1b224ad5",
   "metadata": {},
   "outputs": [],
   "source": [
    "data = {\n",
    "    \"username\": \"abc@abc.abc\",\n",
    "    \"data\": [\n",
    "        {\n",
    "            \"_id\": \"60998936a9de4e00112fa196\",\n",
    "            \"category\": \"book\",\n",
    "            \"name\": \"flow\",\n",
    "            \"description\": \"brand new\",\n",
    "            \"price\": 12,\n",
    "            \"seller\": \"0xE9ABC5FDb983f371fd76F20d40da7892b7f8b380\",\n",
    "            \"longitude\": 123,\n",
    "            \"latitude\": 123,\n",
    "            \"__v\": 0\n",
    "        },\n",
    "        {\n",
    "            \"_id\": \"60\",\n",
    "            \"category\": \"electronic\",\n",
    "            \"name\": \"flow\",\n",
    "            \"description\": \"brand new\",\n",
    "            \"price\": 500,\n",
    "            \"seller\": \"0xE9ABC5FDb983f371fd76F20d40da7892b7f8b380\",\n",
    "            \"longitude\": 123,\n",
    "            \"latitude\": 123,\n",
    "            \"__v\": 0\n",
    "        }\n",
    "    ]\n",
    "}"
   ]
  },
  {
   "cell_type": "code",
   "execution_count": 59,
   "id": "a301e4f6",
   "metadata": {},
   "outputs": [],
   "source": [
    "json2 = [{\"_id\":\"1\",\n",
    "         \"category\":\"book\",\"name\":\"flow\",\"description\":\"brand new\",\"price\":22,\n",
    "         \"seller\":\"0xE9ABC5FDb983f371fd76F20d40da7892b7f8b380\",\"longitude\":123,\"latitude\":123,\"__v\":0},\n",
    "        {\"_id\":\"2\",\n",
    "         \"category\":\"clothing\",\"name\":\"flow\",\"description\":\"brand new\",\"price\":50,\n",
    "         \"seller\":\"0xE9ABC5FDb983f371fd76F20d40da7892b7f8b380\",\"longitude\":123,\"latitude\":123,\"__v\":0},\n",
    "       {\"_id\":\"3\",\n",
    "         \"category\":\"electronic\",\"name\":\"flow\",\"description\":\"brand new\",\"price\":1000,\n",
    "         \"seller\":\"0xE9ABC5FDb983f371fd76F20d40da7892b7f8b380\",\"longitude\":123,\"latitude\":123,\"__v\":0},\n",
    "        {\"_id\":\"4\",\n",
    " \"category\":\"shoes\",\"name\":\"flow\",\"description\":\"brand new\",\"price\":127,\n",
    " \"seller\":\"0xE9ABC5FDb983f371fd76F20d40da7892b7f8b380\",\"longitude\":123,\"latitude\":123,\"__v\":0},\n",
    "        {\"_id\":\"5\",\n",
    " \"category\":\"clothing\",\"name\":\"flow\",\"description\":\"brand new\",\"price\":120,\n",
    " \"seller\":\"0xE9ABC5FDb983f371fd76F20d40da7892b7f8b380\",\"longitude\":123,\"latitude\":123,\"__v\":0},\n",
    "        {\"_id\":\"6\",\n",
    " \"category\":\"handbags\",\"name\":\"flow\",\"description\":\"brand new\",\"price\":199,\n",
    " \"seller\":\"0xE9ABC5FDb983f371fd76F20d40da7892b7f8b380\",\"longitude\":123,\"latitude\":123,\"__v\":0},\n",
    "       ]"
   ]
  },
  {
   "cell_type": "code",
   "execution_count": 60,
   "id": "7561d666",
   "metadata": {},
   "outputs": [],
   "source": [
    "users = (('1', 'abc', 'Molly', 'li', 'female', '20'),('2', 'abc', 'Charlie', 'li', 'male', '20'),\n",
    "         ('3', 'abc', 'Crystal', 'li', 'female', '35'),('4', 'abc', 'Mike', 'li', 'male', '35'),\n",
    "        ('5', 'abc', 'Emily', 'li', 'female', '60'),('6', 'abc', 'John', 'li', 'male', '60'))"
   ]
  },
  {
   "cell_type": "code",
   "execution_count": 65,
   "id": "6ac79491",
   "metadata": {},
   "outputs": [],
   "source": [
    "import os\n",
    "import io\n",
    "import boto3\n",
    "import json\n",
    "import csv\n",
    "import subprocess\n",
    "import sys\n",
    "subprocess.check_call([sys.executable, \"-m\", \"pip\", \"install\", 'pymysql'])\n",
    "\n",
    "import pymysql\n",
    "# grab environment variables\n",
    "ENDPOINT_NAME = 'sagemaker-scikit-learn-2021-05-20-23-14-54-193'\n",
    "runtime= boto3.client('runtime.sagemaker')\n",
    "\n",
    "def lambda_handler(event, context):\n",
    "    print(\"Received event: \" + json.dumps(event, indent=2))\n",
    "    data = json.loads(json.dumps(event))\n",
    "    user_id = data['username']\n",
    "    item = data['data']\n",
    "    conn = pymysql.connect(\n",
    "        host = \"cc-instance.c75aookn21ch.us-east-2.rds.amazonaws.com\",\n",
    "        port = 3306,\n",
    "        user = \"admin\",\n",
    "        password = \"Zj19660412!\",\n",
    "        db = \"cloudComputing\",\n",
    "    )\n",
    "    cur=conn.cursor()\n",
    "    cur.execute(\"SELECT * FROM Users WHERE username=%s\",user_id)\n",
    "    user = cur.fetchall()[0]\n",
    "    \n",
    "    items, categories, prices = [], [], []\n",
    "    for i in item:\n",
    "        items.append(i['_id'])\n",
    "        categories.append(i['category'])\n",
    "        prices.append(i['price']*int(2779))\n",
    "    X = pd.DataFrame(columns=['gender', 'age', 'price', 'category_B', 'category_C', 'category_E',\n",
    "       'category_H', 'category_S'])\n",
    "    X['price'] = prices\n",
    "    emp = np.zeros(len(items),int)\n",
    "    X['category_B'],X['category_C'],X['category_E'],X['category_H'],X['category_S'] = emp,emp,emp,emp,emp\n",
    "    for i in range(len(categories)):\n",
    "        X['category_'+categories[i][0].upper()].iloc[i] = 1\n",
    "    gender = 1 if user[-2].lower()=='male' else 0\n",
    "    age = int(user[-1])\n",
    "    X['gender'] = [gender]*len(items)\n",
    "    X['age'] = [age]*len(items)\n",
    "    items = np.array(items)\n",
    "    \n",
    "    response = runtime.invoke_endpoint(EndpointName=ENDPOINT_NAME,\n",
    "                                       ContentType='text/csv',\n",
    "                                       Body=X.to_csv(header=False, index=False).encode(\"utf-8\"))\n",
    "\n",
    "    result = json.loads(response['Body'].read().decode())\n",
    "    pred = np.array(result)[:,1]\n",
    "    reco = {\"recommend\":list(items[np.argsort(pred)[::-1]])}\n",
    "    return json.dumps(reco)"
   ]
  },
  {
   "cell_type": "code",
   "execution_count": 66,
   "id": "010bc460",
   "metadata": {},
   "outputs": [
    {
     "data": {
      "text/plain": [
       "'{\"recommend\": [\"4\", \"3\", \"1\", \"2\", \"5\", \"6\"]}'"
      ]
     },
     "execution_count": 66,
     "metadata": {},
     "output_type": "execute_result"
    }
   ],
   "source": [
    "lambda_handler(None, None)"
   ]
  }
 ],
 "metadata": {
  "kernelspec": {
   "display_name": "conda_python3",
   "language": "python",
   "name": "conda_python3"
  },
  "language_info": {
   "codemirror_mode": {
    "name": "ipython",
    "version": 3
   },
   "file_extension": ".py",
   "mimetype": "text/x-python",
   "name": "python",
   "nbconvert_exporter": "python",
   "pygments_lexer": "ipython3",
   "version": "3.6.13"
  }
 },
 "nbformat": 4,
 "nbformat_minor": 5
}
