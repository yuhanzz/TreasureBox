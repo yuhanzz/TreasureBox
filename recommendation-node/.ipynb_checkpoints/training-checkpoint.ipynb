{
 "cells": [
  {
   "cell_type": "code",
   "execution_count": 131,
   "metadata": {},
   "outputs": [],
   "source": [
    "from sklearn.linear_model import LogisticRegression\n",
    "import numpy as np\n",
    "import pandas as pd\n",
    "import pickle"
   ]
  },
  {
   "cell_type": "code",
   "execution_count": 58,
   "metadata": {},
   "outputs": [],
   "source": [
    "categ = np.array(['C','S','H','E','B'])#['Clothing','Shoes','Handbags','Electronics','Books']"
   ]
  },
  {
   "cell_type": "markdown",
   "metadata": {},
   "source": [
    "group      women: < 20,| 20 ~ 50, |>50;  |  men: < 20,    |   20 ~ 50,    |      >50 <br>\n",
    "category          C,B  | C,S,E   | S,H    |      S,E,B    |     C,S,E     |       E  <br>\n",
    "price             <50 |<200,<800 |<200,<300 |  <200,<800,<50 | <50,<200,<800 |    <800<br>"
   ]
  },
  {
   "cell_type": "code",
   "execution_count": 73,
   "metadata": {},
   "outputs": [],
   "source": [
    "d = {'0women1':[('C',30),('B',30)],'0women2':[('C',150),('S',150),('E',500)],\n",
    "     '0women3':[('S',150),('H',250)],'1men1':[('S',150),('E',500),('B',30)],\n",
    "     '1men2':[('C',30),('S',150),('E',500)],'1men3':[('E',500)]}"
   ]
  },
  {
   "cell_type": "code",
   "execution_count": 178,
   "metadata": {},
   "outputs": [],
   "source": [
    "def make_data(num):\n",
    "    data = {'gender':[],'age':[],'category':[], 'price':[]}\n",
    "    age = {'1':(10,20),'2':(20,50),'3':(50,80)}\n",
    "    purchased = []\n",
    "    for k in d:\n",
    "        for c in d[k]:\n",
    "            data['gender']+=([int(k[0])]*num)\n",
    "            data['category']+=([c[0]]*num)\n",
    "            purchased+=([1]*num)\n",
    "            data['age']+=list(np.random.randint(age[k[-1]][0],age[k[-1]][1], size=num))\n",
    "            data['price']+= list(np.random.randint(c[1]*0.5,c[1]*1.5, size=num))\n",
    "    n = len(data['gender'])//5\n",
    "    data['gender']+=list(np.array([0,1])[np.random.randint(2,size=n)])\n",
    "    data['category']+=list(categ[np.random.randint(len(categ),size=n)])\n",
    "    purchased+=([0]*n)\n",
    "    data['age']+=list(np.random.randint(10,80, size=n))\n",
    "    data['price']+= list(np.random.randint(10,500*1.5, size=n))\n",
    "    df = pd.DataFrame.from_dict(data)\n",
    "    df = pd.get_dummies(df)\n",
    "    return df,purchased"
   ]
  },
  {
   "cell_type": "code",
   "execution_count": 179,
   "metadata": {},
   "outputs": [
    {
     "data": {
      "text/html": [
       "<div>\n",
       "<style scoped>\n",
       "    .dataframe tbody tr th:only-of-type {\n",
       "        vertical-align: middle;\n",
       "    }\n",
       "\n",
       "    .dataframe tbody tr th {\n",
       "        vertical-align: top;\n",
       "    }\n",
       "\n",
       "    .dataframe thead th {\n",
       "        text-align: right;\n",
       "    }\n",
       "</style>\n",
       "<table border=\"1\" class=\"dataframe\">\n",
       "  <thead>\n",
       "    <tr style=\"text-align: right;\">\n",
       "      <th></th>\n",
       "      <th>gender</th>\n",
       "      <th>age</th>\n",
       "      <th>price</th>\n",
       "      <th>category_B</th>\n",
       "      <th>category_C</th>\n",
       "      <th>category_E</th>\n",
       "      <th>category_H</th>\n",
       "      <th>category_S</th>\n",
       "    </tr>\n",
       "  </thead>\n",
       "  <tbody>\n",
       "    <tr>\n",
       "      <th>0</th>\n",
       "      <td>0</td>\n",
       "      <td>11</td>\n",
       "      <td>37</td>\n",
       "      <td>0</td>\n",
       "      <td>1</td>\n",
       "      <td>0</td>\n",
       "      <td>0</td>\n",
       "      <td>0</td>\n",
       "    </tr>\n",
       "    <tr>\n",
       "      <th>1</th>\n",
       "      <td>0</td>\n",
       "      <td>18</td>\n",
       "      <td>39</td>\n",
       "      <td>0</td>\n",
       "      <td>1</td>\n",
       "      <td>0</td>\n",
       "      <td>0</td>\n",
       "      <td>0</td>\n",
       "    </tr>\n",
       "    <tr>\n",
       "      <th>2</th>\n",
       "      <td>0</td>\n",
       "      <td>18</td>\n",
       "      <td>27</td>\n",
       "      <td>0</td>\n",
       "      <td>1</td>\n",
       "      <td>0</td>\n",
       "      <td>0</td>\n",
       "      <td>0</td>\n",
       "    </tr>\n",
       "    <tr>\n",
       "      <th>3</th>\n",
       "      <td>0</td>\n",
       "      <td>11</td>\n",
       "      <td>17</td>\n",
       "      <td>0</td>\n",
       "      <td>1</td>\n",
       "      <td>0</td>\n",
       "      <td>0</td>\n",
       "      <td>0</td>\n",
       "    </tr>\n",
       "    <tr>\n",
       "      <th>4</th>\n",
       "      <td>0</td>\n",
       "      <td>13</td>\n",
       "      <td>25</td>\n",
       "      <td>0</td>\n",
       "      <td>1</td>\n",
       "      <td>0</td>\n",
       "      <td>0</td>\n",
       "      <td>0</td>\n",
       "    </tr>\n",
       "  </tbody>\n",
       "</table>\n",
       "</div>"
      ],
      "text/plain": [
       "   gender  age  price  category_B  category_C  category_E  category_H  \\\n",
       "0       0   11     37           0           1           0           0   \n",
       "1       0   18     39           0           1           0           0   \n",
       "2       0   18     27           0           1           0           0   \n",
       "3       0   11     17           0           1           0           0   \n",
       "4       0   13     25           0           1           0           0   \n",
       "\n",
       "   category_S  \n",
       "0           0  \n",
       "1           0  \n",
       "2           0  \n",
       "3           0  \n",
       "4           0  "
      ]
     },
     "execution_count": 179,
     "metadata": {},
     "output_type": "execute_result"
    }
   ],
   "source": [
    "train_X, train_y = make_data(10000)\n",
    "test_X, test_y = make_data(2000)\n",
    "train_X.head()"
   ]
  },
  {
   "cell_type": "code",
   "execution_count": 180,
   "metadata": {},
   "outputs": [
    {
     "data": {
      "text/plain": [
       "168000"
      ]
     },
     "execution_count": 180,
     "metadata": {},
     "output_type": "execute_result"
    }
   ],
   "source": [
    "len(train_X)"
   ]
  },
  {
   "cell_type": "code",
   "execution_count": 181,
   "metadata": {},
   "outputs": [],
   "source": [
    "clf = LogisticRegression().fit(train_X, train_y)"
   ]
  },
  {
   "cell_type": "code",
   "execution_count": 182,
   "metadata": {},
   "outputs": [
    {
     "data": {
      "text/plain": [
       "0.8960654761904762"
      ]
     },
     "execution_count": 182,
     "metadata": {},
     "output_type": "execute_result"
    }
   ],
   "source": [
    "clf.score(train_X, train_y)"
   ]
  },
  {
   "cell_type": "code",
   "execution_count": 183,
   "metadata": {},
   "outputs": [
    {
     "data": {
      "text/plain": [
       "0.8957738095238095"
      ]
     },
     "execution_count": 183,
     "metadata": {},
     "output_type": "execute_result"
    }
   ],
   "source": [
    "clf.score(test_X, test_y)"
   ]
  },
  {
   "cell_type": "code",
   "execution_count": 184,
   "metadata": {},
   "outputs": [
    {
     "data": {
      "text/html": [
       "<div>\n",
       "<style scoped>\n",
       "    .dataframe tbody tr th:only-of-type {\n",
       "        vertical-align: middle;\n",
       "    }\n",
       "\n",
       "    .dataframe tbody tr th {\n",
       "        vertical-align: top;\n",
       "    }\n",
       "\n",
       "    .dataframe thead th {\n",
       "        text-align: right;\n",
       "    }\n",
       "</style>\n",
       "<table border=\"1\" class=\"dataframe\">\n",
       "  <thead>\n",
       "    <tr style=\"text-align: right;\">\n",
       "      <th></th>\n",
       "      <th>gender</th>\n",
       "      <th>age</th>\n",
       "      <th>price</th>\n",
       "      <th>category_B</th>\n",
       "      <th>category_C</th>\n",
       "      <th>category_E</th>\n",
       "      <th>category_H</th>\n",
       "      <th>category_S</th>\n",
       "    </tr>\n",
       "  </thead>\n",
       "  <tbody>\n",
       "    <tr>\n",
       "      <th>33595</th>\n",
       "      <td>1</td>\n",
       "      <td>29</td>\n",
       "      <td>483</td>\n",
       "      <td>0</td>\n",
       "      <td>0</td>\n",
       "      <td>0</td>\n",
       "      <td>1</td>\n",
       "      <td>0</td>\n",
       "    </tr>\n",
       "    <tr>\n",
       "      <th>33596</th>\n",
       "      <td>0</td>\n",
       "      <td>42</td>\n",
       "      <td>157</td>\n",
       "      <td>1</td>\n",
       "      <td>0</td>\n",
       "      <td>0</td>\n",
       "      <td>0</td>\n",
       "      <td>0</td>\n",
       "    </tr>\n",
       "    <tr>\n",
       "      <th>33597</th>\n",
       "      <td>1</td>\n",
       "      <td>43</td>\n",
       "      <td>592</td>\n",
       "      <td>0</td>\n",
       "      <td>0</td>\n",
       "      <td>1</td>\n",
       "      <td>0</td>\n",
       "      <td>0</td>\n",
       "    </tr>\n",
       "    <tr>\n",
       "      <th>33598</th>\n",
       "      <td>1</td>\n",
       "      <td>56</td>\n",
       "      <td>644</td>\n",
       "      <td>0</td>\n",
       "      <td>1</td>\n",
       "      <td>0</td>\n",
       "      <td>0</td>\n",
       "      <td>0</td>\n",
       "    </tr>\n",
       "    <tr>\n",
       "      <th>33599</th>\n",
       "      <td>0</td>\n",
       "      <td>41</td>\n",
       "      <td>270</td>\n",
       "      <td>0</td>\n",
       "      <td>0</td>\n",
       "      <td>0</td>\n",
       "      <td>1</td>\n",
       "      <td>0</td>\n",
       "    </tr>\n",
       "  </tbody>\n",
       "</table>\n",
       "</div>"
      ],
      "text/plain": [
       "       gender  age  price  category_B  category_C  category_E  category_H  \\\n",
       "33595       1   29    483           0           0           0           1   \n",
       "33596       0   42    157           1           0           0           0   \n",
       "33597       1   43    592           0           0           1           0   \n",
       "33598       1   56    644           0           1           0           0   \n",
       "33599       0   41    270           0           0           0           1   \n",
       "\n",
       "       category_S  \n",
       "33595           0  \n",
       "33596           0  \n",
       "33597           0  \n",
       "33598           0  \n",
       "33599           0  "
      ]
     },
     "execution_count": 184,
     "metadata": {},
     "output_type": "execute_result"
    }
   ],
   "source": [
    "test_X[-5:]"
   ]
  },
  {
   "cell_type": "code",
   "execution_count": 189,
   "metadata": {},
   "outputs": [
    {
     "data": {
      "text/plain": [
       "array([0.42644879, 0.71187916, 0.81282869, 0.08464467, 0.77889544])"
      ]
     },
     "execution_count": 189,
     "metadata": {},
     "output_type": "execute_result"
    }
   ],
   "source": [
    "clf.predict_proba(test_X[-5:])[:,1]"
   ]
  },
  {
   "cell_type": "code",
   "execution_count": 191,
   "metadata": {},
   "outputs": [
    {
     "data": {
      "text/plain": [
       "array([3, 0, 1])"
      ]
     },
     "execution_count": 191,
     "metadata": {},
     "output_type": "execute_result"
    }
   ],
   "source": [
    "np.argsort(clf.predict_proba(test_X[-5:])[:,1])[:3]"
   ]
  },
  {
   "cell_type": "code",
   "execution_count": 139,
   "metadata": {},
   "outputs": [],
   "source": [
    "pkl_filename = \"pretrained_model.pkl\"\n",
    "with open(pkl_filename, 'wb') as file:\n",
    "    pickle.dump(clf, file)"
   ]
  },
  {
   "cell_type": "code",
   "execution_count": null,
   "metadata": {},
   "outputs": [],
   "source": [
    "def preprocess(item,user):\n",
    "    "
   ]
  },
  {
   "cell_type": "code",
   "execution_count": 192,
   "metadata": {},
   "outputs": [],
   "source": [
    "def get_recommendation(X,pkl_filename,items,k):\n",
    "    with open(pkl_filename, 'rb') as file:\n",
    "        clf = pickle.load(file)\n",
    "    pred = clf.predict_proba(test_X[-5:])[:,1]\n",
    "    return items[np.argsort(pred)[:k]]"
   ]
  }
 ],
 "metadata": {
  "kernelspec": {
   "display_name": "Python 3",
   "language": "python",
   "name": "python3"
  },
  "language_info": {
   "codemirror_mode": {
    "name": "ipython",
    "version": 3
   },
   "file_extension": ".py",
   "mimetype": "text/x-python",
   "name": "python",
   "nbconvert_exporter": "python",
   "pygments_lexer": "ipython3",
   "version": "3.7.6"
  }
 },
 "nbformat": 4,
 "nbformat_minor": 4
}
